{
 "cells": [
  {
   "cell_type": "code",
   "execution_count": 1,
   "id": "e2ae4cf4-db24-4159-9b8e-2b87eadd38e9",
   "metadata": {},
   "outputs": [
    {
     "name": "stdout",
     "output_type": "stream",
     "text": [
      "[18:22:22] Maki:\tInitializing GLFW.\n",
      "[18:22:22] Maki:\tCreating GLFW window 'Maki Showcase Window' (1280, 720).\n",
      "[18:22:23] Maki:\tCreating OpenGL Renderer.\n",
      "[18:22:23] Maki:\tInitializing GLEW.\n",
      "[18:22:23] Maki:\tShaders linked.\n",
      "[18:22:23] Maki:\tShaders linked.\n"
     ]
    }
   ],
   "source": [
    "import maki\n",
    "maki.init(maki.RendererImplementation.opengl)\n",
    "render_driver = maki.RenderDriver(\"Maki Showcase Window\", 1280, 720)"
   ]
  },
  {
   "cell_type": "code",
   "execution_count": 5,
   "id": "9a9c6c8c-eba3-4ffe-b1e7-80744105cf35",
   "metadata": {},
   "outputs": [
    {
     "name": "stdout",
     "output_type": "stream",
     "text": [
      "[18:39:21] Maki:\tDestructing OpenGL Renderer.\n"
     ]
    }
   ],
   "source": [
    "space = 4\n",
    "frame = 1\n",
    "for x in range(0, 60 * space, space):\n",
    "    for y in range(0, 60 * space, space):\n",
    "        for z in range(0, 60 * space, space):\n",
    "            cube = render_driver.add_cuboid_atom()\n",
    "            render_driver.show_cuboid_atom(cube, frame, True)\n",
    "            render_driver.translate_cuboid_atom(cube, frame, maki.vec3(x, y, z))\n",
    "            render_driver.color_cuboid_atom(cube, frame, maki.vec4(0.2, 0.2, 0.8, 1.0))\n",
    "            frame += 1"
   ]
  },
  {
   "cell_type": "code",
   "execution_count": null,
   "id": "fd60b6b2-5258-423c-b23e-f38e9eeb0fe4",
   "metadata": {},
   "outputs": [],
   "source": []
  }
 ],
 "metadata": {
  "kernelspec": {
   "display_name": "Python 3 (ipykernel)",
   "language": "python",
   "name": "python3"
  },
  "language_info": {
   "codemirror_mode": {
    "name": "ipython",
    "version": 3
   },
   "file_extension": ".py",
   "mimetype": "text/x-python",
   "name": "python",
   "nbconvert_exporter": "python",
   "pygments_lexer": "ipython3",
   "version": "3.10.1"
  }
 },
 "nbformat": 4,
 "nbformat_minor": 5
}
