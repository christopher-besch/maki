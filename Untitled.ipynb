{
 "cells": [
  {
   "cell_type": "code",
   "execution_count": 1,
   "id": "de4c812f-9e4c-42b3-943f-51489dc8e5c6",
   "metadata": {},
   "outputs": [
    {
     "name": "stdout",
     "output_type": "stream",
     "text": [
      "[13:08:15] Maki:\tInitializing GLFW.\n",
      "[13:08:15] Maki:\tCreating GLFW window 'Maki Showcase Window' (1280, 640).\n",
      "[13:08:15] Maki:\tCreating OpenGL Renderer.\n",
      "[13:08:15] Maki:\tInitializing GLEW.\n",
      "[13:08:15] Maki:\tShaders linked.\n",
      "[13:08:15] Maki:\tShaders linked.\n"
     ]
    }
   ],
   "source": [
    "import maki\n",
    "# init\n",
    "maki.init(maki.RendererImplementation.opengl)\n",
    "render_driver = maki.RenderDriver(\"Maki Showcase Window\", 1280, 640, maki.vec4(0.20, 0.23, 0.25, 1.0))"
   ]
  },
  {
   "cell_type": "code",
   "execution_count": 3,
   "id": "00ba4ff2-89bc-4965-9552-f982eb38bb41",
   "metadata": {},
   "outputs": [],
   "source": [
    "cube = render_driver.add_cuboid_atom()"
   ]
  },
  {
   "cell_type": "code",
   "execution_count": 4,
   "id": "bc92918d-c1aa-47e0-a3c4-037442277108",
   "metadata": {},
   "outputs": [
    {
     "name": "stdout",
     "output_type": "stream",
     "text": [
      "[13:11:18] Maki:\tCuboidAtom Chrono Sync initiated.\n"
     ]
    }
   ],
   "source": [
    "render_driver.show_cuboid_atom(cuboid, 1, True)"
   ]
  },
  {
   "cell_type": "code",
   "execution_count": 5,
   "id": "e4fbde3f-2889-4cb2-aa7e-46507751c348",
   "metadata": {},
   "outputs": [],
   "source": [
    "render_driver.color_cuboid_atom(cuboid, 2, maki.vec4(1.0, 1.0, 0.0, 1.0))\n",
    "render_driver.color_cuboid_atom(cuboid, 3, maki.vec4(1.0, 0.0, 1.0, 1.0))\n",
    "render_driver.color_cuboid_atom(cuboid, 4, maki.vec4(0.5, 0.5, 0.5, 1.0))\n",
    "render_driver.color_cuboid_atom(cuboid, 5, maki.vec4(0.8, 0.0, 0.4, 1.0))"
   ]
  },
  {
   "cell_type": "code",
   "execution_count": 6,
   "id": "6aa86ad9-76dd-45df-a742-c68f89db017d",
   "metadata": {},
   "outputs": [
    {
     "name": "stdout",
     "output_type": "stream",
     "text": [
      "[13:12:16] Maki:\tCuboidAtom Chrono Sync initiated.\n"
     ]
    }
   ],
   "source": [
    "render_driver.translate_cuboid_atom(cuboid, 6, maki.vec3(0.0, 1.0, 0.0))"
   ]
  },
  {
   "cell_type": "code",
   "execution_count": 7,
   "id": "04165268-221f-4e33-a7e3-f72fd812bba2",
   "metadata": {},
   "outputs": [],
   "source": [
    "target_delta = maki.vec3(10.0, 10.0, 5.0)\n",
    "first_frame = 60       # alpha = 0.0\n",
    "after_last_frame = 200 # alpha = 1.0\n",
    "\n",
    "alpha_delta = 1 / (after_last_frame - first_frame)\n",
    "for frame in range(first_frame, after_last_frame):\n",
    "    cur_delta = target_delta * alpha_delta\n",
    "    render_driver.translate_cuboid_atom(cuboid, frame, cur_delta)"
   ]
  },
  {
   "cell_type": "code",
   "execution_count": 8,
   "id": "d1f48596-c5d7-4dad-9bb5-b11992b37540",
   "metadata": {},
   "outputs": [
    {
     "name": "stdout",
     "output_type": "stream",
     "text": [
      "[13:13:33] Maki:\tCuboidAtom Chrono Sync initiated.\n",
      "[13:13:56] Maki:\tDestructing OpenGL Renderer.\n"
     ]
    }
   ],
   "source": [
    "target_delta = maki.vec3(0.0, -5.0, 0.0)\n",
    "first_frame = 5       # alpha = 0.0\n",
    "after_last_frame = 50 # alpha = 1.0\n",
    "alpha_delta = 1 / (after_last_frame - first_frame)\n",
    "for frame in range(first_frame, after_last_frame):\n",
    "    cur_delta = target_delta * alpha_delta\n",
    "    render_driver.translate_cuboid_atom(cuboid, frame, cur_delta)"
   ]
  },
  {
   "cell_type": "code",
   "execution_count": null,
   "id": "6832ed37-3f88-46ff-bab1-e085f195d115",
   "metadata": {},
   "outputs": [],
   "source": []
  }
 ],
 "metadata": {
  "kernelspec": {
   "display_name": "Python 3 (ipykernel)",
   "language": "python",
   "name": "python3"
  },
  "language_info": {
   "codemirror_mode": {
    "name": "ipython",
    "version": 3
   },
   "file_extension": ".py",
   "mimetype": "text/x-python",
   "name": "python",
   "nbconvert_exporter": "python",
   "pygments_lexer": "ipython3",
   "version": "3.10.1"
  }
 },
 "nbformat": 4,
 "nbformat_minor": 5
}
