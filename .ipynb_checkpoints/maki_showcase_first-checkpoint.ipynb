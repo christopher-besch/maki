{
 "cells": [
  {
   "cell_type": "markdown",
   "id": "92753112-996d-4f6e-9b6d-5dd42a93e52c",
   "metadata": {},
   "source": [
    "# Maki or How to Teach Manim Time Travel"
   ]
  },
  {
   "cell_type": "code",
   "execution_count": 1,
   "id": "7d1cda86-65f5-44be-a4a0-96e4fe61061b",
   "metadata": {},
   "outputs": [],
   "source": [
    "import maki"
   ]
  },
  {
   "cell_type": "code",
   "execution_count": 2,
   "id": "44fe9773-4a68-44e8-8eb9-4b2de87c9da3",
   "metadata": {},
   "outputs": [],
   "source": [
    "maki.init(maki.RendererImplementation.opengl)"
   ]
  },
  {
   "cell_type": "code",
   "execution_count": 3,
   "id": "2a5c5cfa-de5f-4724-96d3-ac00cacd5797",
   "metadata": {},
   "outputs": [
    {
     "name": "stdout",
     "output_type": "stream",
     "text": [
      "[12:34:36] Maki:\tInitializing GLFW.\n"
     ]
    }
   ],
   "source": [
    "render_driver = maki.RenderDriver(\"Jupyter Notebook Example\", 1280, 720)"
   ]
  },
  {
   "cell_type": "code",
   "execution_count": 4,
   "id": "a71dbf38-75ef-4e20-9adb-4ecc10f297fe",
   "metadata": {},
   "outputs": [],
   "source": [
    "from abc import abstractmethod\n",
    "class Mobject:\n",
    "    def __init__(self, render_driver: maki.RenderDriver):\n",
    "        self.render_driver = render_driver\n",
    "    \n",
    "    @abstractmethod\n",
    "    def show(self, frame: int):\n",
    "        pass\n",
    "    @abstractmethod\n",
    "    def hide(self, frame: int):\n",
    "        pass\n",
    "    \n",
    "    @abstractmethod\n",
    "    def translate(self, delta: maki.vec3, first_frame: int, after_last_frame: int):\n",
    "        pass\n",
    "    \n",
    "class Cube(Mobject):\n",
    "    def __init__(self, render_driver: maki.RenderDriver, first_frame: int):\n",
    "        super().__init__(render_driver)\n",
    "        self.cuboid_atom = render_driver.add_cuboid_atom()\n",
    "        self.show(first_frame)\n",
    "        \n",
    "    def show(self, frame: int):\n",
    "        self.render_driver.render_cuboid_atom(self.cuboid_atom, frame, True)\n",
    "    def hide(self, frame: int):\n",
    "        self.render_driver.render_cuboid_atom(self.cuboid_atom, frame, False)\n",
    "        \n",
    "    def translate(self, delta: maki.vec3, first_frame: int, after_last_frame: int):\n",
    "        alpha_delta = 1 / (after_last_frame - first_frame)\n",
    "        for frame in range(first_frame, after_last_frame):\n",
    "            cur_delta = delta * alpha_delta\n",
    "            self.render_driver.translate_cuboid_atom(self.cuboid_atom, frame, cur_delta)"
   ]
  },
  {
   "cell_type": "code",
   "execution_count": 23,
   "id": "d05d0aad-a05e-474a-aec2-7ab21142c4c4",
   "metadata": {},
   "outputs": [],
   "source": [
    "class TextCubes(Mobject):\n",
    "    cubes = []\n",
    "    \n",
    "    def __init__(self, render_driver: maki.RenderDriver, first_frame: int, after_last_frame: int, text: str):\n",
    "        super().__init__(render_driver)\n",
    "        alpha_delta = 1 / (after_last_frame - first_frame)\n",
    "        font = self.load_font()\n",
    "        rendered_text = self.render_text(text, *font)\n",
    "        y = 0.0\n",
    "        spacing = 3.0\n",
    "        for line in rendered_text:\n",
    "            x = 0.0\n",
    "            for char in line:\n",
    "                if char == \"#\":\n",
    "                    self.cubes.append(self.render_driver.add_cuboid_atom())\n",
    "                    for frame in range(first_frame, after_last_frame):\n",
    "                        self.render_driver.translate_cuboid_atom(self.cubes[-1], frame, maki.vec3(x, -y, 0) * frame * alpha_delta)\n",
    "                x += spacing\n",
    "            y += spacing\n",
    "        self.show(first_frame)\n",
    "        \n",
    "    def show(self, frame: int):\n",
    "        for cube in self.cubes:\n",
    "            self.render_driver.render_cuboid_atom(cube, frame, True)\n",
    "    def show(self, frame: int):\n",
    "        for cube in self.cubes:\n",
    "            self.render_driver.render_cuboid_atom(cube, frame, True)\n",
    "        \n",
    "    def translate(self, delta: maki.vec3, first_frame: int, after_last_frame: int):\n",
    "        alpha_delta = 1 / (after_last_frame - first_frame)\n",
    "        for frame in range(first_frame, after_last_frame):\n",
    "            cur_delta = delta * alpha_delta\n",
    "            for cube in self.cubes:\n",
    "                self.render_driver.translate_cuboid_atom(cube, frame, cur_delta)\n",
    "    \n",
    "    def load_font(self):\n",
    "        chars = {}\n",
    "        with open(f\"block.txt\", \"r\", encoding=\"utf-8\") as file:\n",
    "            height = int(file.readline().split(\":\")[-1])\n",
    "            spacing = int(file.readline().split(\":\")[-1])\n",
    "            while line := file.readline():\n",
    "                if line[0] == \"-\":\n",
    "                    code = int(line[1:])\n",
    "                    char = []\n",
    "                    for _ in range(0, height):\n",
    "                        char.append(list(file.readline().strip(\"\\n\"))[::2])\n",
    "                    chars[code] = char\n",
    "        return (chars, height, spacing)\n",
    "\n",
    "\n",
    "    def render_text(self, text, font_chars, height, spacing):\n",
    "        # rows to be printed\n",
    "        output_lines = []\n",
    "        for input_line in text.split(\"\\n\"):\n",
    "            # filling lines with pixels of one char after another\n",
    "            new_output_lines = [[] for _ in range(height)]\n",
    "            for input_char in input_line:\n",
    "                # convert input char into array of pixels\n",
    "                output_char_rows = font_chars[ord(input_char)]\n",
    "                for new_output_line, output_char_row in zip(new_output_lines, output_char_rows):\n",
    "                    new_output_line += output_char_row\n",
    "            output_lines += new_output_lines\n",
    "\n",
    "        output_strings = [\"\".join(line).replace(\"_\", \"#\").replace(\"|\", \"#\") for line in output_lines]\n",
    "        return output_strings"
   ]
  },
  {
   "cell_type": "code",
   "execution_count": 6,
   "id": "eda6d962-314e-4c5a-ac79-06a78944a0ec",
   "metadata": {},
   "outputs": [],
   "source": [
    "cube = Cube(render_driver, 1)"
   ]
  },
  {
   "cell_type": "code",
   "execution_count": 7,
   "id": "49307750-7095-404d-99ab-ead967b8387d",
   "metadata": {},
   "outputs": [],
   "source": [
    "cube.translate(maki.vec3(10.0, 10.0, 10.0), 1, 100)"
   ]
  },
  {
   "cell_type": "code",
   "execution_count": 8,
   "id": "9202e46f-fed1-4660-9ce0-befe08ac338b",
   "metadata": {},
   "outputs": [],
   "source": [
    "cube.translate(maki.vec3(0.0, 20.0, 10.0), 1, 10)"
   ]
  },
  {
   "cell_type": "code",
   "execution_count": 9,
   "id": "c5483a3d-d94e-40e8-8014-36c5b5e6cddf",
   "metadata": {},
   "outputs": [],
   "source": [
    "cube.hide(20)\n",
    "cube.show(30)"
   ]
  },
  {
   "cell_type": "code",
   "execution_count": 10,
   "id": "f397d236-c57c-4a20-b1b0-2df98dcb45c5",
   "metadata": {},
   "outputs": [],
   "source": [
    "cube.translate(maki.vec3(0.0, -100.0, 0.0), 5, 7)\n",
    "cube.translate(maki.vec3(0.0, 100.0, 0.0), 7, 10)"
   ]
  },
  {
   "cell_type": "code",
   "execution_count": 24,
   "id": "55723eb7-e6f8-4382-9b29-65590d62aaaf",
   "metadata": {},
   "outputs": [
    {
     "name": "stdout",
     "output_type": "stream",
     "text": [
      "[12:39:52] Maki:\tChrono Sync initiated.\n"
     ]
    }
   ],
   "source": [
    "text_cubes = TextCubes(render_driver, 1, 200, \"Hello World\")"
   ]
  },
  {
   "cell_type": "code",
   "execution_count": 19,
   "id": "5dfcfd84-cd63-46e1-a408-3f27b43354d1",
   "metadata": {},
   "outputs": [
    {
     "name": "stdout",
     "output_type": "stream",
     "text": [
      "[12:35:33] Maki:\tChrono Sync initiated.\n"
     ]
    }
   ],
   "source": [
    "text_cubes.translate(maki.vec3(0.0, 2.0, 0.0), 1, 2)"
   ]
  },
  {
   "cell_type": "code",
   "execution_count": null,
   "id": "123f10f0-ad71-47ea-8011-029bcdf8c113",
   "metadata": {},
   "outputs": [],
   "source": []
  }
 ],
 "metadata": {
  "kernelspec": {
   "display_name": "Python 3 (ipykernel)",
   "language": "python",
   "name": "python3"
  },
  "language_info": {
   "codemirror_mode": {
    "name": "ipython",
    "version": 3
   },
   "file_extension": ".py",
   "mimetype": "text/x-python",
   "name": "python",
   "nbconvert_exporter": "python",
   "pygments_lexer": "ipython3",
   "version": "3.10.1"
  }
 },
 "nbformat": 4,
 "nbformat_minor": 5
}
