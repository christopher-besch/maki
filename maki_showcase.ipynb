{
 "cells": [
  {
   "cell_type": "markdown",
   "id": "67880847-cf33-4257-87ed-fc67338474f4",
   "metadata": {},
   "source": [
    "# Maki or How to Teach Manim Time Travel"
   ]
  },
  {
   "cell_type": "markdown",
   "id": "90dbab12-cbdb-4d5a-91c9-0dae8901dab8",
   "metadata": {},
   "source": [
    "### Setup"
   ]
  },
  {
   "cell_type": "code",
   "execution_count": 1,
   "id": "d4763229-66e7-4098-8b52-d67fe912d70c",
   "metadata": {},
   "outputs": [],
   "source": [
    "import maki"
   ]
  },
  {
   "cell_type": "code",
   "execution_count": 2,
   "id": "2041ec1f-4e48-48f2-82fa-c2dfe1e4efd0",
   "metadata": {},
   "outputs": [],
   "source": [
    "maki.init(maki.RendererImplementation.opengl)"
   ]
  },
  {
   "cell_type": "code",
   "execution_count": 3,
   "id": "884bee7e-a512-4113-8a14-9abe72eef9f3",
   "metadata": {},
   "outputs": [
    {
     "name": "stdout",
     "output_type": "stream",
     "text": [
      "[08:52:30] Maki:\tInitializing GLFW.\n"
     ]
    }
   ],
   "source": [
    "render_driver = maki.RenderDriver(\"Maki Showcase Window\", 1280, 640, maki.vec4(52.0, 58.0, 64.0, 256.0) * (1/256))"
   ]
  },
  {
   "cell_type": "markdown",
   "id": "11cd5843-42b4-43c2-82c6-d18ff8deb5ac",
   "metadata": {},
   "source": [
    "## Raw Cuboids"
   ]
  },
  {
   "cell_type": "code",
   "execution_count": 4,
   "id": "f2775c62-2b75-4425-8f89-48b97872e95e",
   "metadata": {},
   "outputs": [],
   "source": [
    "cuboid = render_driver.add_cuboid_atom()"
   ]
  },
  {
   "cell_type": "code",
   "execution_count": 5,
   "id": "55df67af-1fc4-4d26-84b5-661cb3137b43",
   "metadata": {},
   "outputs": [],
   "source": [
    "render_driver.show_cuboid_atom(cuboid, 1, True)"
   ]
  },
  {
   "cell_type": "markdown",
   "id": "669a8e02-1232-40ae-9e35-bf18fe5ee490",
   "metadata": {},
   "source": [
    "### Colouring"
   ]
  },
  {
   "cell_type": "code",
   "execution_count": 6,
   "id": "228da863-5521-432f-9d80-29598b761a04",
   "metadata": {},
   "outputs": [],
   "source": [
    "render_driver.color_cuboid_atom(cuboid, 2, maki.vec4(1.0, 1.0, 0.0, 1.0))"
   ]
  },
  {
   "cell_type": "code",
   "execution_count": 7,
   "id": "6d30c001-70bc-494f-8545-0cd6e1bc221b",
   "metadata": {},
   "outputs": [
    {
     "name": "stdout",
     "output_type": "stream",
     "text": [
      "[08:52:30] Maki:\tCreating GLFW window 'Maki Showcase Window' (1280, 640).\n"
     ]
    }
   ],
   "source": [
    "render_driver.color_cuboid_atom(cuboid, 3, maki.vec4(1.0, 0.0, 1.0, 1.0))\n",
    "render_driver.color_cuboid_atom(cuboid, 4, maki.vec4(0.5, 0.5, 0.5, 1.0))\n",
    "render_driver.color_cuboid_atom(cuboid, 5, maki.vec4(0.8, 0.0, 0.4, 1.0))"
   ]
  },
  {
   "cell_type": "markdown",
   "id": "113fb580-0b55-40bd-97cf-f0ed14b907f8",
   "metadata": {},
   "source": [
    "### Translation"
   ]
  },
  {
   "cell_type": "code",
   "execution_count": 8,
   "id": "57acd2b2-56f7-40d7-9820-aecd835d8ef8",
   "metadata": {},
   "outputs": [],
   "source": [
    "render_driver.translate_cuboid_atom(cuboid, 6, maki.vec3(0.0, 1.0, 0.0))"
   ]
  },
  {
   "cell_type": "code",
   "execution_count": 9,
   "id": "36e2ad86-b7f7-4fc8-a223-a101f7964ef6",
   "metadata": {},
   "outputs": [],
   "source": [
    "target_delta = maki.vec3(10.0, 10.0, 5.0)\n",
    "first_frame = 60       # alpha = 0.0\n",
    "after_last_frame = 200 # alpha = 1.0\n",
    "\n",
    "alpha_delta = 1 / (after_last_frame - first_frame)\n",
    "for frame in range(first_frame, after_last_frame):\n",
    "    cur_delta = target_delta * alpha_delta\n",
    "    render_driver.translate_cuboid_atom(cuboid, frame, cur_delta)"
   ]
  },
  {
   "cell_type": "markdown",
   "id": "780fb1a1-d1d8-4cf4-b153-9431598b5a1f",
   "metadata": {},
   "source": [
    "## Time Travel"
   ]
  },
  {
   "cell_type": "code",
   "execution_count": 10,
   "id": "a6bfc44f-567b-4eeb-8e86-d6253ae85159",
   "metadata": {},
   "outputs": [],
   "source": [
    "target_delta = maki.vec3(0.0, -5.0, 0.0)\n",
    "first_frame = 5       # alpha = 0.0\n",
    "after_last_frame = 50 # alpha = 1.0\n",
    "alpha_delta = 1 / (after_last_frame - first_frame)\n",
    "for frame in range(first_frame, after_last_frame):\n",
    "    cur_delta = target_delta * alpha_delta\n",
    "    render_driver.translate_cuboid_atom(cuboid, frame, cur_delta)"
   ]
  },
  {
   "cell_type": "markdown",
   "id": "96bbebe2-13d2-4abd-8c65-d43ca8405dd3",
   "metadata": {},
   "source": [
    "## Abstraction"
   ]
  },
  {
   "cell_type": "code",
   "execution_count": 11,
   "id": "0d9b0b42-8031-4f68-8694-12f9ebb0bdc0",
   "metadata": {},
   "outputs": [],
   "source": [
    "from abc import abstractmethod\n",
    "\n",
    "# this is not clean code, it's just a showcase\n",
    "class Mobject:\n",
    "    def __init__(self, render_driver: maki.RenderDriver):\n",
    "        self.render_driver = render_driver\n",
    "    \n",
    "    @abstractmethod\n",
    "    def show(self, frame: int):\n",
    "        pass\n",
    "    @abstractmethod\n",
    "    def hide(self, frame: int):\n",
    "        pass\n",
    "    \n",
    "    @abstractmethod\n",
    "    def translate(self, delta: maki.vec3, first_frame: int, after_last_frame: int):\n",
    "        pass\n",
    "\n",
    "\n",
    "class Cube(Mobject):\n",
    "    def __init__(self, render_driver: maki.RenderDriver, first_frame: int):\n",
    "        super().__init__(render_driver)\n",
    "        self.cuboid_atom = render_driver.add_cuboid_atom()\n",
    "        self.show(first_frame)\n",
    "        \n",
    "    def show(self, frame: int):\n",
    "        self.render_driver.show_cuboid_atom(self.cuboid_atom, frame, True)\n",
    "    def hide(self, frame: int):\n",
    "        self.render_driver.show_cuboid_atom(self.cuboid_atom, frame, False)\n",
    "        \n",
    "    def translate(self, delta: maki.vec3, first_frame: int, after_last_frame: int):\n",
    "        alpha_delta = 1 / (after_last_frame - first_frame)\n",
    "        for frame in range(first_frame, after_last_frame):\n",
    "            cur_delta = delta * alpha_delta\n",
    "            self.render_driver.translate_cuboid_atom(self.cuboid_atom, frame, cur_delta)"
   ]
  },
  {
   "cell_type": "code",
   "execution_count": 12,
   "id": "592dbd78-5a67-4c3c-a286-bbfbcc3528f5",
   "metadata": {},
   "outputs": [],
   "source": [
    "c = Cube(render_driver, 5)"
   ]
  },
  {
   "cell_type": "code",
   "execution_count": 13,
   "id": "b73596a2-6569-46c1-bea9-5269893a7c9f",
   "metadata": {},
   "outputs": [],
   "source": [
    "c.translate(maki.vec3(0.0, 0.0, 20.0), 10, 300)"
   ]
  },
  {
   "cell_type": "markdown",
   "id": "ce668c16-eecb-4561-9a44-2a15370b04b4",
   "metadata": {},
   "source": [
    "# Some more complicated Mobjects"
   ]
  },
  {
   "cell_type": "markdown",
   "id": "14914b98-2ba5-4bce-8c69-8dae91a1da28",
   "metadata": {},
   "source": [
    "## Big Block of Cubes"
   ]
  },
  {
   "cell_type": "code",
   "execution_count": 14,
   "id": "d8f40eeb-a18f-4d60-8677-7160d6e8c201",
   "metadata": {},
   "outputs": [],
   "source": [
    "import random\n",
    "\n",
    "\n",
    "# again, this is very unclean code\n",
    "def get_random_color():\n",
    "    return maki.vec4(random.uniform(0.0, 1.0), random.uniform(0.0, 1.0), random.uniform(0.0, 1.0), 1.0)"
   ]
  },
  {
   "cell_type": "code",
   "execution_count": 15,
   "id": "a6172d4f-bcf7-460a-a980-240fa3ac7df2",
   "metadata": {},
   "outputs": [
    {
     "name": "stdout",
     "output_type": "stream",
     "text": [
      "[08:52:30] Maki:\tCreating OpenGL Renderer.\n",
      "[08:52:30] Maki:\tInitializing GLEW.\n",
      "[08:52:30] Maki:\tShaders linked.\n",
      "[08:52:30] Maki:\tShaders linked.\n"
     ]
    }
   ],
   "source": [
    "space = 4\n",
    "frame = 1.0\n",
    "for x in range(0, 50 * space, space):\n",
    "    for y in range(0, 50 * space, space):\n",
    "        for z in range(0, 50 * space, space):\n",
    "            cube = render_driver.add_cuboid_atom()\n",
    "            render_driver.show_cuboid_atom(cube, int(frame), True)\n",
    "            render_driver.translate_cuboid_atom(cube, int(frame), maki.vec3(x-300, y-200, z))\n",
    "            render_driver.color_cuboid_atom(cube, int(frame), get_random_color())\n",
    "            frame += 0.005"
   ]
  },
  {
   "cell_type": "markdown",
   "id": "907824c5-4707-44d9-994c-e058f92d46ce",
   "metadata": {},
   "source": [
    "## Text"
   ]
  },
  {
   "cell_type": "code",
   "execution_count": 16,
   "id": "f864d7f3-0396-432f-8bd2-51148899c298",
   "metadata": {},
   "outputs": [],
   "source": [
    "class TextCubes(Mobject):\n",
    "    cubes = []\n",
    "    \n",
    "    def __init__(self, render_driver: maki.RenderDriver, first_frame: int, after_last_frame: int, text: str):\n",
    "        super().__init__(render_driver)\n",
    "        alpha_delta = 1 / (after_last_frame - first_frame)\n",
    "        font = self.load_font()\n",
    "        rendered_text = self.render_text(text, *font)\n",
    "        y = 0.0\n",
    "        spacing = 3.0\n",
    "        for line in rendered_text:\n",
    "            x = 0.0\n",
    "            for char in line:\n",
    "                if char == \"#\":\n",
    "                    self.cubes.append(self.render_driver.add_cuboid_atom())\n",
    "                    for frame in range(first_frame, after_last_frame):\n",
    "                        self.render_driver.translate_cuboid_atom(self.cubes[-1], frame, maki.vec3(x, -y, 0) * alpha_delta)\n",
    "                    self.render_driver.color_cuboid_atom(self.cubes[-1], random.randint(int(first_frame + (after_last_frame - first_frame) / 2), after_last_frame - 1), get_random_color())\n",
    "                x += spacing\n",
    "            y += spacing\n",
    "        self.show(first_frame)\n",
    "        \n",
    "    def show(self, frame: int):\n",
    "        for cube in self.cubes:\n",
    "            self.render_driver.show_cuboid_atom(cube, frame, True)\n",
    "    def hide(self, frame: int):\n",
    "        for cube in self.cubes:\n",
    "            self.render_driver.show_cuboid_atom(cube, frame, False)\n",
    "        \n",
    "    def translate(self, delta: maki.vec3, first_frame: int, after_last_frame: int):\n",
    "        alpha_delta = 1 / (after_last_frame - first_frame)\n",
    "        for frame in range(first_frame, after_last_frame):\n",
    "            cur_delta = delta * alpha_delta\n",
    "            for cube in self.cubes:\n",
    "                self.render_driver.translate_cuboid_atom(cube, frame, cur_delta)\n",
    "    \n",
    "    def load_font(self):\n",
    "        chars = {}\n",
    "        with open(f\"block.txt\", \"r\", encoding=\"utf-8\") as file:\n",
    "            height = int(file.readline().split(\":\")[-1])\n",
    "            spacing = int(file.readline().split(\":\")[-1])\n",
    "            while line := file.readline():\n",
    "                if line[0] == \"-\":\n",
    "                    code = int(line[1:])\n",
    "                    char = []\n",
    "                    for _ in range(0, height):\n",
    "                        char.append(list(file.readline().strip(\"\\n\"))[::2])\n",
    "                    chars[code] = char\n",
    "        return (chars, height, spacing)\n",
    "\n",
    "\n",
    "    def render_text(self, text, font_chars, height, spacing):\n",
    "        # rows to be printed\n",
    "        output_lines = []\n",
    "        for input_line in text.split(\"\\n\"):\n",
    "            # filling lines with pixels of one char after another\n",
    "            new_output_lines = [[] for _ in range(height)]\n",
    "            for input_char in input_line:\n",
    "                # convert input char into array of pixels\n",
    "                output_char_rows = font_chars[ord(input_char)]\n",
    "                for new_output_line, output_char_row in zip(new_output_lines, output_char_rows):\n",
    "                    new_output_line += output_char_row\n",
    "            output_lines += new_output_lines\n",
    "\n",
    "        output_strings = [\"\".join(line).replace(\"_\", \"#\").replace(\"|\", \"#\") for line in output_lines]\n",
    "        return output_strings"
   ]
  },
  {
   "cell_type": "code",
   "execution_count": 17,
   "id": "bd7f2850-1ce2-42de-8cc5-64e4f4837705",
   "metadata": {},
   "outputs": [
    {
     "name": "stdout",
     "output_type": "stream",
     "text": [
      "[08:52:31] Maki:\tCuboidAtom Chrono Sync initiated.\n",
      "[08:52:31] Maki:\tCuboidAtom Chrono Sync initiated.\n",
      "[08:52:31] Maki:\tCuboidAtom Chrono Sync initiated.\n",
      "[08:52:32] Maki:\tCuboidAtom Chrono Sync initiated.\n",
      "[08:52:32] Maki:\tCuboidAtom Chrono Sync initiated.\n",
      "[08:52:32] Maki:\tCuboidAtom Chrono Sync initiated.\n"
     ]
    }
   ],
   "source": [
    "t = TextCubes(render_driver, 1, 200, \"Hello World\")"
   ]
  },
  {
   "cell_type": "markdown",
   "id": "9615b638-c801-417b-9ae1-4116de301afd",
   "metadata": {},
   "source": [
    "## Images and Videos"
   ]
  },
  {
   "cell_type": "code",
   "execution_count": 18,
   "id": "f1ca6d73-86c3-4030-833f-6b93013ecb84",
   "metadata": {},
   "outputs": [],
   "source": [
    "from PIL import Image\n",
    "import numpy as np\n",
    "import itertools\n",
    "import os\n",
    "\n",
    "# again, garbage code\n",
    "class ImageRects(Mobject):\n",
    "    rects = []\n",
    "    WIDTH = 96\n",
    "    HEIGHT = 72\n",
    "    SPACING = 3\n",
    "    \n",
    "    def __init__(self, render_driver: maki.RenderDriver, first_frame: int, after_last_frame: int, path: str, z: float):\n",
    "        super().__init__(render_driver)\n",
    "        \n",
    "        image = Image.open(path)\n",
    "        image = image.resize((self.WIDTH, self.HEIGHT), Image.ANTIALIAS)\n",
    "        image_data = np.asarray(image)\n",
    "        \n",
    "        for (x, y), frame in zip(itertools.product(range(self.WIDTH), range(self.HEIGHT)), np.linspace(first_frame, after_last_frame, num=self.WIDTH*self.HEIGHT, endpoint=False)):\n",
    "            # create rect\n",
    "            self.rects.append(self.render_driver.add_quadrilateral_atom())\n",
    "            # position rect\n",
    "            self.render_driver.translate_quadrilateral_atom(self.rects[-1], int(frame), maki.vec3(x * self.SPACING, -y * self.SPACING, z))\n",
    "            # set color\n",
    "            self.render_driver.color_quadrilateral_atom(self.rects[-1], int(frame), maki.vec4(float(image_data[y][x][0]/256), float(image_data[y][x][1]/256), float(image_data[y][x][2]/256), 1.0))\n",
    "            # show rect\n",
    "            self.render_driver.show_quadrilateral_atom(self.rects[-1], int(frame), True)\n",
    "            \n",
    "        print(f\"created image for '{path}'\")\n",
    "        \n",
    "    def show(self, frame: int):\n",
    "        for cube in self.cubes:\n",
    "            self.render_driver.show_quadrilateral_atom(cube, frame, True)\n",
    "    def hide(self, frame: int):\n",
    "        for rect in self.rects:\n",
    "            self.render_driver.show_quadrilateral_atom(rect, frame, False)\n",
    "        \n",
    "    def translate(self, delta: maki.vec3, first_frame: int, after_last_frame: int):\n",
    "        alpha_delta = 1 / (after_last_frame - first_frame)\n",
    "        for frame in range(first_frame, after_last_frame):\n",
    "            cur_delta = delta * alpha_delta\n",
    "            for rect in self.rects:\n",
    "                self.render_driver.translate_quadrilateral_atom(rect, frame, cur_delta)\n",
    "\n",
    "class VideoRects(Mobject):\n",
    "    images = []\n",
    "    SPACING = 3\n",
    "    \n",
    "    def __init__(self, render_driver: maki.RenderDriver, first_frame: int, after_last_frame: int, path: str, frames):\n",
    "        super().__init__(render_driver)\n",
    "        \n",
    "        frame_space = np.linspace(first_frame, after_last_frame, num=frames+1, endpoint=False)\n",
    "        \n",
    "        for frame in range(1, frames+1):\n",
    "            self.images.append(ImageRects(self.render_driver, frame_space[frame-1], frame_space[frame], os.path.join(path, f\"{frame:02d}.png\"), frame * self.SPACING))\n",
    "    \n",
    "    def show(self, frame: int):\n",
    "        for image in self.images:\n",
    "            image.show(frame)\n",
    "    def hide(self, frame: int):\n",
    "        for image in self.images:\n",
    "            image.hide(frame)\n",
    "    def translate(self, delta: maki.vec3, first_frame: int, after_last_frame: int):\n",
    "        for image in self.images:\n",
    "            image.translate(delta, first_frame, after_last_frame)"
   ]
  },
  {
   "cell_type": "code",
   "execution_count": 19,
   "id": "e2c88037-548b-430d-8bb8-b7188fdd5be3",
   "metadata": {},
   "outputs": [
    {
     "name": "stdout",
     "output_type": "stream",
     "text": [
      "created image for 'examples/rick/01.png'\n",
      "created image for 'examples/rick/02.png'\n",
      "created image for 'examples/rick/03.png'\n",
      "created image for 'examples/rick/04.png'\n",
      "created image for 'examples/rick/05.png'\n",
      "created image for 'examples/rick/06.png'\n",
      "created image for 'examples/rick/07.png'\n",
      "created image for 'examples/rick/08.png'\n",
      "created image for 'examples/rick/09.png'\n",
      "created image for 'examples/rick/10.png'\n",
      "created image for 'examples/rick/11.png'\n",
      "created image for 'examples/rick/12.png'\n",
      "created image for 'examples/rick/13.png'\n",
      "created image for 'examples/rick/14.png'\n",
      "created image for 'examples/rick/15.png'\n",
      "created image for 'examples/rick/16.png'\n",
      "created image for 'examples/rick/17.png'\n",
      "created image for 'examples/rick/18.png'\n",
      "created image for 'examples/rick/19.png'\n",
      "created image for 'examples/rick/20.png'\n",
      "created image for 'examples/rick/21.png'\n",
      "created image for 'examples/rick/22.png'\n",
      "created image for 'examples/rick/23.png'\n",
      "created image for 'examples/rick/24.png'\n",
      "created image for 'examples/rick/25.png'\n",
      "created image for 'examples/rick/26.png'\n",
      "created image for 'examples/rick/27.png'\n",
      "created image for 'examples/rick/28.png'\n",
      "created image for 'examples/rick/29.png'\n",
      "created image for 'examples/rick/30.png'\n",
      "created image for 'examples/rick/31.png'\n"
     ]
    }
   ],
   "source": [
    "t = VideoRects(render_driver, 500, 1000, \"examples/rick\", 31)"
   ]
  }
 ],
 "metadata": {
  "kernelspec": {
   "display_name": "Python 3 (ipykernel)",
   "language": "python",
   "name": "python3"
  },
  "language_info": {
   "codemirror_mode": {
    "name": "ipython",
    "version": 3
   },
   "file_extension": ".py",
   "mimetype": "text/x-python",
   "name": "python",
   "nbconvert_exporter": "python",
   "pygments_lexer": "ipython3",
   "version": "3.10.1"
  }
 },
 "nbformat": 4,
 "nbformat_minor": 5
}
