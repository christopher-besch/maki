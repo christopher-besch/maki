{
 "cells": [
  {
   "cell_type": "markdown",
   "id": "67880847-cf33-4257-87ed-fc67338474f4",
   "metadata": {},
   "source": [
    "# Maki or How to Teach Manim Time Travel"
   ]
  },
  {
   "cell_type": "markdown",
   "id": "90dbab12-cbdb-4d5a-91c9-0dae8901dab8",
   "metadata": {},
   "source": [
    "### Setup"
   ]
  },
  {
   "cell_type": "code",
   "execution_count": 1,
   "id": "d4763229-66e7-4098-8b52-d67fe912d70c",
   "metadata": {},
   "outputs": [],
   "source": [
    "import maki"
   ]
  },
  {
   "cell_type": "code",
   "execution_count": 2,
   "id": "2041ec1f-4e48-48f2-82fa-c2dfe1e4efd0",
   "metadata": {},
   "outputs": [],
   "source": [
    "maki.init(maki.RendererImplementation.opengl)"
   ]
  },
  {
   "cell_type": "code",
   "execution_count": 3,
   "id": "884bee7e-a512-4113-8a14-9abe72eef9f3",
   "metadata": {},
   "outputs": [
    {
     "name": "stdout",
     "output_type": "stream",
     "text": [
      "[18:29:26] Maki:\tInitializing GLFW.\n"
     ]
    }
   ],
   "source": [
    "render_driver = maki.RenderDriver(\"Maki Showcase Window\", 1280, 720)"
   ]
  },
  {
   "cell_type": "markdown",
   "id": "11cd5843-42b4-43c2-82c6-d18ff8deb5ac",
   "metadata": {},
   "source": [
    "## Raw Cuboids"
   ]
  },
  {
   "cell_type": "code",
   "execution_count": 4,
   "id": "f2775c62-2b75-4425-8f89-48b97872e95e",
   "metadata": {},
   "outputs": [],
   "source": [
    "cuboid = render_driver.add_cuboid_atom()"
   ]
  },
  {
   "cell_type": "code",
   "execution_count": 5,
   "id": "55df67af-1fc4-4d26-84b5-661cb3137b43",
   "metadata": {},
   "outputs": [],
   "source": [
    "render_driver.render_cuboid_atom(cuboid, 1, True)"
   ]
  },
  {
   "cell_type": "markdown",
   "id": "669a8e02-1232-40ae-9e35-bf18fe5ee490",
   "metadata": {},
   "source": [
    "### Colouring"
   ]
  },
  {
   "cell_type": "code",
   "execution_count": 6,
   "id": "228da863-5521-432f-9d80-29598b761a04",
   "metadata": {},
   "outputs": [],
   "source": [
    "render_driver.color_cuboid_atom(cuboid, 2, maki.vec4(1.0, 1.0, 0.0, 1.0))"
   ]
  },
  {
   "cell_type": "code",
   "execution_count": 7,
   "id": "6d30c001-70bc-494f-8545-0cd6e1bc221b",
   "metadata": {},
   "outputs": [
    {
     "name": "stdout",
     "output_type": "stream",
     "text": [
      "[18:29:26] Maki:\tCreating GLFW window 'Maki Showcase Window' (1280, 720).\n"
     ]
    }
   ],
   "source": [
    "render_driver.color_cuboid_atom(cuboid, 3, maki.vec4(1.0, 0.0, 1.0, 1.0))\n",
    "render_driver.color_cuboid_atom(cuboid, 4, maki.vec4(0.5, 0.5, 0.5, 1.0))\n",
    "render_driver.color_cuboid_atom(cuboid, 5, maki.vec4(0.8, 0.0, 0.4, 1.0))"
   ]
  },
  {
   "cell_type": "markdown",
   "id": "113fb580-0b55-40bd-97cf-f0ed14b907f8",
   "metadata": {},
   "source": [
    "### Translation"
   ]
  },
  {
   "cell_type": "code",
   "execution_count": 8,
   "id": "57acd2b2-56f7-40d7-9820-aecd835d8ef8",
   "metadata": {},
   "outputs": [],
   "source": [
    "render_driver.translate_cuboid_atom(cuboid, 6, maki.vec3(0.0, 1.0, 0.0))"
   ]
  },
  {
   "cell_type": "code",
   "execution_count": 9,
   "id": "36e2ad86-b7f7-4fc8-a223-a101f7964ef6",
   "metadata": {},
   "outputs": [],
   "source": [
    "target_delta = maki.vec3(10.0, 10.0, 5.0)\n",
    "first_frame = 60       # alpha = 0.0\n",
    "after_last_frame = 200 # alpha = 1.0\n",
    "\n",
    "alpha_delta = 1 / (after_last_frame - first_frame)\n",
    "for frame in range(first_frame, after_last_frame):\n",
    "    cur_delta = target_delta * alpha_delta\n",
    "    render_driver.translate_cuboid_atom(cuboid, frame, cur_delta)"
   ]
  },
  {
   "cell_type": "markdown",
   "id": "780fb1a1-d1d8-4cf4-b153-9431598b5a1f",
   "metadata": {},
   "source": [
    "## Time Travel"
   ]
  },
  {
   "cell_type": "code",
   "execution_count": 10,
   "id": "a6bfc44f-567b-4eeb-8e86-d6253ae85159",
   "metadata": {},
   "outputs": [],
   "source": [
    "target_delta = maki.vec3(0.0, -5.0, 0.0)\n",
    "first_frame = 5       # alpha = 0.0\n",
    "after_last_frame = 50 # alpha = 1.0\n",
    "alpha_delta = 1 / (after_last_frame - first_frame)\n",
    "for frame in range(first_frame, after_last_frame):\n",
    "    cur_delta = target_delta * alpha_delta\n",
    "    render_driver.translate_cuboid_atom(cuboid, frame, cur_delta)"
   ]
  },
  {
   "cell_type": "markdown",
   "id": "96bbebe2-13d2-4abd-8c65-d43ca8405dd3",
   "metadata": {},
   "source": [
    "## Abstraction"
   ]
  },
  {
   "cell_type": "code",
   "execution_count": 11,
   "id": "0d9b0b42-8031-4f68-8694-12f9ebb0bdc0",
   "metadata": {},
   "outputs": [],
   "source": [
    "from abc import abstractmethod\n",
    "\n",
    "# this is not clean code, it's just a showcase\n",
    "class Mobject:\n",
    "    def __init__(self, render_driver: maki.RenderDriver):\n",
    "        self.render_driver = render_driver\n",
    "    \n",
    "    @abstractmethod\n",
    "    def show(self, frame: int):\n",
    "        pass\n",
    "    @abstractmethod\n",
    "    def hide(self, frame: int):\n",
    "        pass\n",
    "    \n",
    "    @abstractmethod\n",
    "    def translate(self, delta: maki.vec3, first_frame: int, after_last_frame: int):\n",
    "        pass\n",
    "\n",
    "\n",
    "class Cube(Mobject):\n",
    "    def __init__(self, render_driver: maki.RenderDriver, first_frame: int):\n",
    "        super().__init__(render_driver)\n",
    "        self.cuboid_atom = render_driver.add_cuboid_atom()\n",
    "        self.show(first_frame)\n",
    "        \n",
    "    def show(self, frame: int):\n",
    "        self.render_driver.render_cuboid_atom(self.cuboid_atom, frame, True)\n",
    "    def hide(self, frame: int):\n",
    "        self.render_driver.render_cuboid_atom(self.cuboid_atom, frame, False)\n",
    "        \n",
    "    def translate(self, delta: maki.vec3, first_frame: int, after_last_frame: int):\n",
    "        alpha_delta = 1 / (after_last_frame - first_frame)\n",
    "        for frame in range(first_frame, after_last_frame):\n",
    "            cur_delta = delta * alpha_delta\n",
    "            self.render_driver.translate_cuboid_atom(self.cuboid_atom, frame, cur_delta)"
   ]
  },
  {
   "cell_type": "code",
   "execution_count": 12,
   "id": "592dbd78-5a67-4c3c-a286-bbfbcc3528f5",
   "metadata": {},
   "outputs": [],
   "source": [
    "c = Cube(render_driver, 5)"
   ]
  },
  {
   "cell_type": "code",
   "execution_count": 13,
   "id": "b73596a2-6569-46c1-bea9-5269893a7c9f",
   "metadata": {},
   "outputs": [],
   "source": [
    "c.translate(maki.vec3(0.0, 0.0, 20.0), 10, 300)"
   ]
  },
  {
   "cell_type": "markdown",
   "id": "ce668c16-eecb-4561-9a44-2a15370b04b4",
   "metadata": {},
   "source": [
    "### Text"
   ]
  },
  {
   "cell_type": "code",
   "execution_count": 14,
   "id": "f864d7f3-0396-432f-8bd2-51148899c298",
   "metadata": {},
   "outputs": [],
   "source": [
    "import random\n",
    "\n",
    "\n",
    "# again, this is very unclean code\n",
    "def get_random_color():\n",
    "    return maki.vec4(random.uniform(0.0, 1.0), random.uniform(0.0, 1.0), random.uniform(0.0, 1.0), 1.0)\n",
    "\n",
    "\n",
    "class TextCubes(Mobject):\n",
    "    cubes = []\n",
    "    \n",
    "    def __init__(self, render_driver: maki.RenderDriver, first_frame: int, after_last_frame: int, text: str):\n",
    "        super().__init__(render_driver)\n",
    "        alpha_delta = 1 / (after_last_frame - first_frame)\n",
    "        font = self.load_font()\n",
    "        rendered_text = self.render_text(text, *font)\n",
    "        y = 0.0\n",
    "        spacing = 3.0\n",
    "        for line in rendered_text:\n",
    "            x = 0.0\n",
    "            for char in line:\n",
    "                if char == \"#\":\n",
    "                    self.cubes.append(self.render_driver.add_cuboid_atom())\n",
    "                    for frame in range(first_frame, after_last_frame):\n",
    "                        self.render_driver.translate_cuboid_atom(self.cubes[-1], frame, maki.vec3(x, -y, 0) * alpha_delta)\n",
    "                    self.render_driver.color_cuboid_atom(self.cubes[-1], random.randint(int(first_frame + (after_last_frame - first_frame) / 2), after_last_frame - 1), get_random_color())\n",
    "                x += spacing\n",
    "            y += spacing\n",
    "        self.show(first_frame)\n",
    "        \n",
    "    def show(self, frame: int):\n",
    "        for cube in self.cubes:\n",
    "            self.render_driver.render_cuboid_atom(cube, frame, True)\n",
    "    def show(self, frame: int):\n",
    "        for cube in self.cubes:\n",
    "            self.render_driver.render_cuboid_atom(cube, frame, True)\n",
    "        \n",
    "    def translate(self, delta: maki.vec3, first_frame: int, after_last_frame: int):\n",
    "        alpha_delta = 1 / (after_last_frame - first_frame)\n",
    "        for frame in range(first_frame, after_last_frame):\n",
    "            cur_delta = delta * alpha_delta\n",
    "            for cube in self.cubes:\n",
    "                self.render_driver.translate_cuboid_atom(cube, frame, cur_delta)\n",
    "    \n",
    "    def load_font(self):\n",
    "        chars = {}\n",
    "        with open(f\"block.txt\", \"r\", encoding=\"utf-8\") as file:\n",
    "            height = int(file.readline().split(\":\")[-1])\n",
    "            spacing = int(file.readline().split(\":\")[-1])\n",
    "            while line := file.readline():\n",
    "                if line[0] == \"-\":\n",
    "                    code = int(line[1:])\n",
    "                    char = []\n",
    "                    for _ in range(0, height):\n",
    "                        char.append(list(file.readline().strip(\"\\n\"))[::2])\n",
    "                    chars[code] = char\n",
    "        return (chars, height, spacing)\n",
    "\n",
    "\n",
    "    def render_text(self, text, font_chars, height, spacing):\n",
    "        # rows to be printed\n",
    "        output_lines = []\n",
    "        for input_line in text.split(\"\\n\"):\n",
    "            # filling lines with pixels of one char after another\n",
    "            new_output_lines = [[] for _ in range(height)]\n",
    "            for input_char in input_line:\n",
    "                # convert input char into array of pixels\n",
    "                output_char_rows = font_chars[ord(input_char)]\n",
    "                for new_output_line, output_char_row in zip(new_output_lines, output_char_rows):\n",
    "                    new_output_line += output_char_row\n",
    "            output_lines += new_output_lines\n",
    "\n",
    "        output_strings = [\"\".join(line).replace(\"_\", \"#\").replace(\"|\", \"#\") for line in output_lines]\n",
    "        return output_strings"
   ]
  },
  {
   "cell_type": "code",
   "execution_count": 15,
   "id": "bd7f2850-1ce2-42de-8cc5-64e4f4837705",
   "metadata": {},
   "outputs": [
    {
     "name": "stdout",
     "output_type": "stream",
     "text": [
      "[18:29:26] Maki:\tCreating OpenGL Renderer.\n",
      "[18:29:26] Maki:\tInitializing GLEW.\n",
      "[18:29:26] Maki:\tShaders linked.\n",
      "[18:30:06] Maki:\tDestructing OpenGL Renderer.\n"
     ]
    }
   ],
   "source": [
    "t = TextCubes(render_driver, 1, 200, \"Hello World\")"
   ]
  },
  {
   "cell_type": "code",
   "execution_count": null,
   "id": "f1ca6d73-86c3-4030-833f-6b93013ecb84",
   "metadata": {},
   "outputs": [],
   "source": []
  }
 ],
 "metadata": {
  "kernelspec": {
   "display_name": "Python 3 (ipykernel)",
   "language": "python",
   "name": "python3"
  },
  "language_info": {
   "codemirror_mode": {
    "name": "ipython",
    "version": 3
   },
   "file_extension": ".py",
   "mimetype": "text/x-python",
   "name": "python",
   "nbconvert_exporter": "python",
   "pygments_lexer": "ipython3",
   "version": "3.10.1"
  }
 },
 "nbformat": 4,
 "nbformat_minor": 5
}
